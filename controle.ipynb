{
 "cells": [
  {
   "cell_type": "code",
   "execution_count": 69,
   "metadata": {},
   "outputs": [],
   "source": [
    "def maioridade(idade):\n",
    "    idade = int(idade)\n",
    "    mensagem = \"Idade inválida\"\n",
    "    \n",
    "    if 0 < idade < 18:\n",
    "        mensagem = \"Menor de Dezoito anos\"\n",
    "    elif  18 <= idade <= 60:\n",
    "        mensagem = \"Adulto\"\n",
    "    elif  60 < idade <= 100:\n",
    "        mensagem = \"Idoso\"\n",
    "    elif idade > 100:\n",
    "        mensagem = \"Centenário\"\n",
    "\n",
    "    return mensagem\n"
   ]
  },
  {
   "cell_type": "code",
   "execution_count": 73,
   "metadata": {},
   "outputs": [
    {
     "name": "stdout",
     "output_type": "stream",
     "text": [
      "Menor de Dezoito anos\n"
     ]
    }
   ],
   "source": [
    "print(maioridade(1))\n"
   ]
  }
 ],
 "metadata": {
  "kernelspec": {
   "display_name": "base",
   "language": "python",
   "name": "python3"
  },
  "language_info": {
   "codemirror_mode": {
    "name": "ipython",
    "version": 3
   },
   "file_extension": ".py",
   "mimetype": "text/x-python",
   "name": "python",
   "nbconvert_exporter": "python",
   "pygments_lexer": "ipython3",
   "version": "3.11.4"
  },
  "orig_nbformat": 4
 },
 "nbformat": 4,
 "nbformat_minor": 2
}
